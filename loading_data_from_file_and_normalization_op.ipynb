{
  "nbformat": 4,
  "nbformat_minor": 0,
  "metadata": {
    "colab": {
      "provenance": []
    },
    "kernelspec": {
      "name": "python3",
      "display_name": "Python 3"
    },
    "language_info": {
      "name": "python"
    }
  },
  "cells": [
    {
      "cell_type": "code",
      "execution_count": 5,
      "metadata": {
        "colab": {
          "base_uri": "https://localhost:8080/"
        },
        "id": "jJtbguNp_0Va",
        "outputId": "90d9790a-94e8-43e3-fe6b-0c8634c05bec"
      },
      "outputs": [
        {
          "output_type": "stream",
          "name": "stdout",
          "text": [
            "   1\n",
            "0  2\n",
            "1  3\n",
            "2  4\n",
            "3  5\n",
            "4  6\n"
          ]
        }
      ],
      "source": [
        "import pandas as pd\n",
        "\n",
        "# Replace 'data.csv' with the actual name of your file\n",
        "file_path = 'data.csv'\n",
        "\n",
        "# Read the data into a pandas DataFrame\n",
        "df = pd.read_csv(file_path)\n",
        "\n",
        "# Display the first few rows of the DataFrame\n",
        "print(df.head())\n"
      ]
    },
    {
      "cell_type": "markdown",
      "source": [
        "# New Section"
      ],
      "metadata": {
        "id": "khN0L8lNAyBk"
      }
    },
    {
      "cell_type": "code",
      "source": [
        "import pandas as pd\n",
        "\n",
        "# Replace 'data.csv' with the actual name of your file\n",
        "file_path = 'data.csv'\n",
        "\n",
        "# Read the data into a pandas DataFrame\n",
        "df = pd.read_csv(file_path)\n",
        "\n",
        "# Display the first few rows of the DataFrame\n",
        "print(df.head())\n"
      ],
      "metadata": {
        "colab": {
          "base_uri": "https://localhost:8080/"
        },
        "id": "nILZ5CZtAd5W",
        "outputId": "9e2b894f-557c-43b1-e312-320f9d4a9f29"
      },
      "execution_count": 6,
      "outputs": [
        {
          "output_type": "stream",
          "name": "stdout",
          "text": [
            "   1\n",
            "0  2\n",
            "1  3\n",
            "2  4\n",
            "3  5\n",
            "4  6\n"
          ]
        }
      ]
    },
    {
      "cell_type": "code",
      "source": [
        "from sklearn.preprocessing import MinMaxScaler\n",
        "\n",
        "# Extract numerical columns for normalization\n",
        "numerical_columns = df.select_dtypes(include=['float64', 'int64']).columns\n",
        "\n",
        "# Initialize the scaler\n",
        "scaler = MinMaxScaler()\n",
        "\n",
        "# Apply the scaler to the numerical columns\n",
        "df[numerical_columns] = scaler.fit_transform(df[numerical_columns])\n",
        "\n",
        "# Display the first few rows of the normalized DataFrame\n",
        "print(df.head())\n"
      ],
      "metadata": {
        "colab": {
          "base_uri": "https://localhost:8080/"
        },
        "id": "JFREKVpiEdMP",
        "outputId": "0ef956ec-ccf0-4e74-8295-95f2d4c85e95"
      },
      "execution_count": 7,
      "outputs": [
        {
          "output_type": "stream",
          "name": "stdout",
          "text": [
            "       1\n",
            "0  0.000\n",
            "1  0.125\n",
            "2  0.250\n",
            "3  0.375\n",
            "4  0.500\n"
          ]
        }
      ]
    },
    {
      "cell_type": "code",
      "source": [],
      "metadata": {
        "id": "fgv3MzQbElR9"
      },
      "execution_count": null,
      "outputs": []
    }
  ]
}